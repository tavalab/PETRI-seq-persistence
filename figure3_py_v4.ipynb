{
 "cells": [
  {
   "cell_type": "code",
   "execution_count": 1,
   "metadata": {},
   "outputs": [],
   "source": [
    "# python version 3.6.9 #\n",
    "import pandas as pd # 1.1.5\n",
    "import numpy as np # 1.19.5\n",
    "import matplotlib.pyplot as plt\n",
    "import matplotlib # 3.3.4\n",
    "import scipy.stats as st # scipy 1.5.4\n",
    "\n",
    "matplotlib.rcParams['font.sans-serif'] = \"Arial\"\n",
    "matplotlib.rcParams['font.family'] = \"sans-serif\"\n",
    "plt.rc('text', usetex=False)\n",
    "matplotlib.rcParams['pdf.fonttype'] = 42\n",
    "matplotlib.rcParams['ps.fonttype'] = 42\n",
    "matplotlib.rcParams.update({'font.size': 16})\n",
    "plt.style.use('source_data/included/figure.style')\n",
    "cm = plt.cm.get_cmap('tab20c')\n"
   ]
  },
  {
   "cell_type": "code",
   "execution_count": 2,
   "metadata": {},
   "outputs": [
    {
     "data": {
      "image/png": "[encoded data removed]",
      "text/plain": [
       "<Figure size 144x288 with 1 Axes>"
      ]
     },
     "metadata": {
      "needs_background": "light"
     },
     "output_type": "display_data"
    }
   ],
   "source": [
    "# figure 3A plot survival #\n",
    "table = pd.read_csv('source_data/included/source_1B_ED1_2A.csv',sep=',')\n",
    "table = table.loc[table['phase']=='lag']\n",
    "table = table.loc[table['time_from_OD0.1']>20]\n",
    "\n",
    "cm = plt.cm.get_cmap('tab20c')\n",
    "np.random.seed(seed=1)\n",
    "shift = 0.05\n",
    "strain_list = ['MG1655','MG1655_in_tet','MG1655_after_tet']\n",
    "names = ['WT','WT\\nin\\ntet','WT\\nafter\\ntet']\n",
    "fig,ax = plt.subplots(figsize=(2,4))\n",
    "i = 1\n",
    "\n",
    "x = np.arange(1,4,1)\n",
    "y = table.groupby(['strain'])['amp'].mean()[strain_list]\n",
    "err = table.groupby(['strain'])['amp'].std()[strain_list]\n",
    "ax.errorbar(x-0.2,y,yerr=err,fmt=\".\",markersize=20,capsize=5,color=cm(0),label='ampicillin')\n",
    "\n",
    "x = np.arange(1,4,1)\n",
    "y = table.groupby(['strain'])['cipro'].mean()[strain_list]\n",
    "err = table.groupby(['strain'])['cipro'].std()[strain_list]\n",
    "ax.errorbar(x+0.2,y,yerr=err,fmt=\".\",markersize=20,capsize=5,color=cm(4),label='cipro')\n",
    "ax.set_yscale('log')\n",
    "\n",
    "ax.set_ylim(10**(-5),10**0.3)\n",
    "ax.set_xlim(0.5,3.5)\n",
    "ax.set_xticks([1,2,3])\n",
    "ax.set_ylim(10**(-5),10**0.3)\n",
    "ax.set_yticks([10**-5,10**-4,10**-3,10**-2,10**-1,10**0])\n",
    "for i in [1.5,2.5]:\n",
    "    ax.axvline(i,color='k',linewidth=0.2,alpha=0.5)\n",
    "ax.set_xticklabels(names)\n",
    "ax.legend(bbox_to_anchor=(1.5, 0.5),fontsize=16)\n",
    "ax.set_ylabel('Survival Ratio')\n",
    "\n",
    "plt.savefig('figures/fig3a.pdf')\n"
   ]
  },
  {
   "cell_type": "code",
   "execution_count": 3,
   "metadata": {},
   "outputs": [
    {
     "name": "stdout",
     "output_type": "stream",
     "text": [
      "0.004900713258121395\n",
      "0.0048782602435154645\n",
      "14\n",
      "3\n",
      "0.004900713258121395\n",
      "0.0048782602435154645\n",
      "14\n",
      "3\n",
      "0.04042779918502612\n",
      "0.04042779918502612\n"
     ]
    }
   ],
   "source": [
    "# Mann-Whitney U tests for fig 3A\n",
    "strain1 = 'MG1655'\n",
    "strain2 = 'MG1655_in_tet'\n",
    "table.groupby(['strain'])['amp'].mean()[strain_list]\n",
    "x = table.loc[(table['strain']==strain1),'amp'].dropna()\n",
    "y = table.loc[(table['strain']==strain2),'amp'].dropna()\n",
    "print(st.mannwhitneyu(x,y)[1])\n",
    "x = table.loc[(table['strain']==strain1),'cipro'].dropna()\n",
    "y = table.loc[(table['strain']==strain2),'cipro'].dropna()\n",
    "print(st.mannwhitneyu(x,y)[1])\n",
    "print(len(x))\n",
    "print(len(y))\n",
    "\n",
    "strain1 = 'MG1655'\n",
    "strain2 = 'MG1655_after_tet'\n",
    "x = table.loc[(table['strain']==strain1),'amp'].dropna()\n",
    "y = table.loc[(table['strain']==strain2),'amp'].dropna()\n",
    "print(st.mannwhitneyu(x,y)[1])\n",
    "x = table.loc[(table['strain']==strain1),'cipro'].dropna()\n",
    "y = table.loc[(table['strain']==strain2),'cipro'].dropna()\n",
    "print(st.mannwhitneyu(x,y)[1])\n",
    "print(len(x))\n",
    "print(len(y))\n",
    "\n",
    "strain1 = 'MG1655_in_tet'\n",
    "strain2 = 'MG1655_after_tet'\n",
    "x = table.loc[(table['strain']==strain1),'amp'].dropna()\n",
    "y = table.loc[(table['strain']==strain2),'amp'].dropna()\n",
    "print(st.mannwhitneyu(x,y)[1])\n",
    "x = table.loc[(table['strain']==strain1),'cipro'].dropna()\n",
    "y = table.loc[(table['strain']==strain2),'cipro'].dropna()\n",
    "print(st.mannwhitneyu(x,y)[1])\n"
   ]
  },
  {
   "cell_type": "code",
   "execution_count": 4,
   "metadata": {},
   "outputs": [
    {
     "data": {
      "image/png": "[encoded data removed]",
      "text/plain": [
       "<Figure size 216x216 with 1 Axes>"
      ]
     },
     "metadata": {
      "needs_background": "light"
     },
     "output_type": "display_data"
    }
   ],
   "source": [
    "# fig 3B appearance times #\n",
    "\n",
    "samples = {}\n",
    "samples['WT'] = ['35-1_20230323','35-2_20230323','35-3_20230323','35-4_20230323','WT_1day_20220421','noTet1_20211115', 'noTet2_20211115', 'noTet3_20211115','wt_20221104','wt_20220829','MG1655_20220922']\n",
    "samples['afterTet'] = ['afterTet1_20211115','afterTet2_20211115']\n",
    "appearance_times = pd.read_csv('source_data/included/appearance_times_all.txt',sep='\\t',index_col=0)\n",
    "\n",
    "matplotlib.rcParams['axes.linewidth'] = 0.2 \n",
    "colors = [cm(0),cm(0),cm(0),'k']\n",
    "xmin = 400\n",
    "xmax = 1200\n",
    "alpha=0.5\n",
    "fig, ax = plt.subplots(figsize=(3,3))\n",
    "i=0\n",
    "for t in ['WT_1day_20220421'] + samples['afterTet']:\n",
    "    data = appearance_times.loc[t,'appearance']\n",
    "    count, bins_count = np.histogram(data, bins=100)\n",
    "    pdf = count / sum(count)\n",
    "    cdf = np.cumsum(pdf)\n",
    "    if i == 1:\n",
    "        ax.plot(bins_count[1:], cdf,linewidth=3,color=colors[i],label='after tet (n=2)',alpha=alpha)\n",
    "    elif i == 2:\n",
    "        ax.plot(bins_count[1:], cdf,linewidth=3,color=colors[i],alpha=alpha)\n",
    "    elif i == 0:\n",
    "        ax.plot(bins_count[1:], cdf,linewidth=3,color='k',alpha=1,label='wt control')\n",
    "    ax.set_yticks([])\n",
    "    ax.set_xticks([500,750])\n",
    "    ax.set_xlim([xmin,xmax])\n",
    "    i += 1\n",
    "    \n",
    "plt.tight_layout()\n",
    "plt.savefig('figures/fig3b_left.pdf')\n",
    "matplotlib.rcParams['axes.linewidth'] = 1\n"
   ]
  },
  {
   "cell_type": "code",
   "execution_count": 5,
   "metadata": {},
   "outputs": [
    {
     "name": "stdout",
     "output_type": "stream",
     "text": [
      "MannwhitneyuResult(statistic=5.0, pvalue=0.13882350813820943)\n",
      "MannwhitneyuResult(statistic=11.0, pvalue=0.4592723183924505)\n"
     ]
    },
    {
     "data": {
      "image/png": "[encoded data removed]",
      "text/plain": [
       "<Figure size 144x216 with 2 Axes>"
      ]
     },
     "metadata": {
      "needs_background": "light"
     },
     "output_type": "display_data"
    }
   ],
   "source": [
    "# fig3B statistics\n",
    "\n",
    "## define function to get mean of appearance times ##\n",
    "def f(rep):\n",
    "    return(appearance_times.loc[rep,'appearance'].mean())\n",
    "## make dictionary of mean appearance times ##\n",
    "s_func = {}\n",
    "for s in samples.keys():\n",
    "    s_func[s] = []\n",
    "    for rep in samples[s]:\n",
    "        s_func[s].append(f(rep))\n",
    "to_plot = ['WT','afterTet']\n",
    "\n",
    "## test significant differences in mean appearance times ##\n",
    "print(st.mannwhitneyu(s_func['WT'],s_func['afterTet']))\n",
    "\n",
    "## plot means ##\n",
    "fig,(ax,ax2) = plt.subplots(2,1,figsize=(2,3),sharex=True)\n",
    "x = np.arange(0,len(to_plot))\n",
    "means = [np.mean(s_func[x]) for x in to_plot]\n",
    "stdevs = [np.std(s_func[x]) for x in to_plot]\n",
    "for x_val,mean,stdev in zip(x,means,stdevs):\n",
    "    ax.errorbar(x_val,mean,yerr=stdev,fmt=\".\",markersize=20,capsize=5,color=cm(1))\n",
    "\n",
    "## define function to get range of appearance times ##\n",
    "def f(rep):\n",
    "    return(appearance_times.loc[rep,'appearance'].max()-appearance_times.loc[rep,'appearance'].min())\n",
    "## make dictionary of range of appearance times ##\n",
    "s_func = {}\n",
    "for s in samples.keys():\n",
    "    s_func[s] = []\n",
    "    for rep in samples[s]:\n",
    "        s_func[s].append(f(rep))\n",
    "\n",
    "## test significant differences in range of appearance times ##\n",
    "print(st.mannwhitneyu(s_func['WT'],s_func['afterTet']))\n",
    "\n",
    "## plot ranges ##\n",
    "means = [np.mean(s_func[x]) for x in to_plot]\n",
    "stdevs = [np.std(s_func[x]) for x in to_plot]\n",
    "for x_val,mean,stdev in zip(x,means,stdevs):\n",
    "    ax2.errorbar(x_val,mean,yerr=stdev,fmt=\".\",markersize=20,capsize=5,color=cm(1))\n",
    "ax2.set_xlim(-0.5,1.5)\n",
    "ax2.set_xticks([0,1])\n",
    "names = ['no\\ntet','after\\ntet']\n",
    "ax2.set_xticklabels(names)\n",
    "ax.set_ylim(450,700)\n",
    "ax2.set_ylim(50,300)\n",
    "## add significance to plot ##\n",
    "x1 = 0\n",
    "x2 = 1\n",
    "y = 200\n",
    "h = 20\n",
    "ax2.plot([x1, x1, x2, x2], [y, y+h, y+h, y], lw=1, c='k')\n",
    "ax2.text((x1+x2)*.5, y+h, \"ns\", ha='center', va='bottom', color='k',size=16)\n",
    "\n",
    "x1 = 0\n",
    "x2 = 1\n",
    "y = 600\n",
    "h = 20\n",
    "ax.plot([x1, x1, x2, x2], [y, y+h, y+h, y], lw=1, c='k')\n",
    "ax.text((x1+x2)*.5, y+h, \"ns\", ha='center', va='bottom', color='k',size=16)\n",
    "\n",
    "plt.tight_layout()\n",
    "plt.savefig('figures/fig3b_right.pdf')\n"
   ]
  },
  {
   "cell_type": "code",
   "execution_count": 6,
   "metadata": {},
   "outputs": [],
   "source": [
    "## save principal component loadings for iPAGE (for fig 3C) ##\n",
    "bnum_table = pd.read_csv('source_data/included/ecoli_bnum_table_updated_2.txt',sep='\\t',index_col=0)\n",
    "bnum_table = bnum_table.drop_duplicates()\n",
    "bnum_table.index = bnum_table['gene']\n",
    "PC_table = pd.read_csv('source_data/generated/fig3_pc1_loadings.txt',sep='\\t',index_col=0) # saved in figure3_R notebook\n",
    "PC_table['bnum'] = bnum_table['bnum']\n",
    "PC_table['gene'] = PC_table.index\n",
    "PC_table.index = PC_table['bnum']\n",
    "PC_table['x'].sort_values().to_csv('source_data/generated/ipageInput_fig3_pc1.txt',sep='\\t')\n"
   ]
  },
  {
   "cell_type": "code",
   "execution_count": 7,
   "metadata": {},
   "outputs": [],
   "source": [
    "## save cluster markers for iPAGE (for fig 3C)##\n",
    "\n",
    "def save_ipage_for_fig3(id1,id2,FDR):\n",
    "    filename = 'source_data/generated/' + id1 + '_vs_' + id2 + '_markers_for_fig3.txt' # saved in fig3_persister_only.R (FindMarkers)\n",
    "    table = pd.read_csv(filename,sep='\\t',index_col=0)\n",
    "    table.index = table['Row.names']\n",
    "    table = table.drop('Row.names',axis=1)\n",
    "    table = table.merge(bnum_table,left_index=True,right_index=True)\n",
    "    table.index = table['bnum']\n",
    "    table['less'] = -table['less']\n",
    "    signed_p = []\n",
    "    for h,l in zip(table['greater'],table['less']):\n",
    "        if abs(h)<=abs(l):\n",
    "            signed_p.append(h + (10**-300))\n",
    "        elif abs(l)<abs(h):\n",
    "            signed_p.append(l - (10**-300))\n",
    "        else:\n",
    "            print('error')\n",
    "    table['signed_p'] = signed_p\n",
    "    table['fixed_signif'] = (abs(table['signed_p']).sort_values()<FDR*np.arange(1,len(table)+1)/len(table)).astype(int)\n",
    "    table['fixed_signif'] = (table['fixed_signif'] * (table['signed_p']/abs(table['signed_p']))).astype(int)\n",
    "    output = 'source_data/generated/ipageInput_fig3_markers_' + id1 + '_vs_' + id2 + '.txt'\n",
    "    (table['fixed_signif']+1).sort_values().to_csv(output,sep='\\t')\n",
    "\n",
    "FDR = 0.05\n",
    "save_ipage_for_fig3('metG','tet',FDR)\n",
    "save_ipage_for_fig3('hipA7','tet',FDR)\n",
    "save_ipage_for_fig3('WT_d6','tet',FDR)\n",
    "\n"
   ]
  },
  {
   "cell_type": "code",
   "execution_count": 8,
   "metadata": {},
   "outputs": [
    {
     "data": {
      "text/plain": [
       "Index(['GO:0005624 membrane fraction',\n",
       "       'GO:0004812 aminoacyl-tRNA ligase activity',\n",
       "       'GO:0006418 tRNA aminoacylation for protein translation',\n",
       "       'GO:0008610 lipid biosynthetic process',\n",
       "       'GO:0006633 fatty acid biosynthetic process',\n",
       "       'GO:0016874 ligase activity', 'CysB_Up CysB_Up',\n",
       "       'GO:0019344 cysteine biosynthetic process', 'FruR_Up FruR_Up',\n",
       "       'GO:0030170 pyridoxal phosphate binding', 'DgsA_Down DgsA_Down',\n",
       "       'GO:0006508 proteolysis', 'GO:0008652 amino acid biosynthetic process',\n",
       "       'GO:0006352 transcription initiation',\n",
       "       'GO:0019538 protein metabolic process',\n",
       "       'GO:0006099 tricarboxylic acid cycle'],\n",
       "      dtype='object', name='0')"
      ]
     },
     "execution_count": 8,
     "metadata": {},
     "output_type": "execute_result"
    }
   ],
   "source": [
    "## load in results from PC1 iPAGE\n",
    "## continuous mode; 8 bins; max_p=0.005; independence=0\n",
    "pval_threshold = np.log10(0.001)\n",
    "PC_matrix = pd.read_csv('source_data/included/ipageInput_fig3_pc1_pvmatrix_combined.txt',sep='\\t',index_col=1)\n",
    "PC_matrix_high = PC_matrix[['8']] ## look at only top two columns (most positive PC1 loading group)\n",
    "PC_matrix_high = PC_matrix_high.iloc[:,0].str.split('/',expand=True)[0].astype(float)\n",
    "## select terms with p-value <threshold for enrichment in top PC1 loadings\n",
    "PC_matrix_high = PC_matrix_high[PC_matrix_high<pval_threshold].sort_values() \n",
    "PC1_high_terms = PC_matrix_high.index\n",
    "PC1_high_terms\n"
   ]
  },
  {
   "cell_type": "code",
   "execution_count": 9,
   "metadata": {},
   "outputs": [
    {
     "data": {
      "text/plain": [
       "Index(['GO:0005624 membrane fraction',\n",
       "       'GO:0004812 aminoacyl-tRNA ligase activity',\n",
       "       'GO:0006418 tRNA aminoacylation for protein translation',\n",
       "       'GO:0008610 lipid biosynthetic process',\n",
       "       'GO:0006633 fatty acid biosynthetic process',\n",
       "       'GO:0016874 ligase activity', 'CysB_Up CysB_Up',\n",
       "       'GO:0019344 cysteine biosynthetic process', 'FruR_Up FruR_Up',\n",
       "       'GO:0030170 pyridoxal phosphate binding', 'DgsA_Down DgsA_Down',\n",
       "       'GO:0006508 proteolysis', 'GO:0008652 amino acid biosynthetic process',\n",
       "       'GO:0019538 protein metabolic process',\n",
       "       'GO:0006099 tricarboxylic acid cycle'],\n",
       "      dtype='object', name='0')"
      ]
     },
     "execution_count": 9,
     "metadata": {},
     "output_type": "execute_result"
    }
   ],
   "source": [
    "## read in iPAGE output for differential expression (FindMarkers) ## \n",
    "## discrete, P=0.05\n",
    "pval_threshold = np.log10(0.05)\n",
    "combined = pd.read_csv('source_data/included/ipageInput_fig3_markers_pvmatrix_combined.txt',sep='\\t',index_col=0)\n",
    "## clean up dataframe and make parsable ##\n",
    "combined['comparison'] = combined.index.str.split('.txt_',expand=True).droplevel(1).str.replace('ipageInput_fig3_markers_','')\n",
    "combined['type'] = combined.index.str.split('_PO_',expand=True).droplevel(0).str.split('_P.05_PAGE',expand=True).droplevel(1)\n",
    "combined = combined.reset_index().drop('index',axis=1)\n",
    "for column in ['0','1','2']:\n",
    "    combined = combined.merge(combined[column].str.split('/',expand=True).rename(columns={0:column+'_pval_enriched',1:column+'_pval_depleted'}).astype(float),left_index=True,right_index=True)\n",
    "combined = combined.drop(['0','1','2'],axis=1)\n",
    "## resulting combined dataframe gives p-value (from iPAGE) of enrichment or depletion in each gene classification ##\n",
    "## gene classifications are 0 (significantly underexpressed), 1 (not differentially expressed), 2 (significantly overexpressed) ##\n",
    "combined.index = combined['GO']\n",
    "combined = combined.drop('GO',axis=1)\n",
    "## look for terms significantly enriched in metG persister cells vs cells in tet\n",
    "## AND significantly enriched in PC1 positive loadings \n",
    "terms = combined.loc[(combined['2_pval_enriched']<pval_threshold)].groupby('GO')['comparison'].count().reindex(PC1_high_terms).dropna().index\n",
    "terms\n",
    "\n",
    "## for fig 3C: 'GO:0006099','GO:0004812','GO:0019538','GO:0008652'\n",
    "## for fig S13B: 'GO:0030170','GO:0005624','GO:0019344','DgsA_Down','GO:0006633'\n",
    "## remaining have overlap with other terms:\n",
    "    # CysB_Up overlaps with GO:0019344\n",
    "    # GO:0006418, GO:0016874 overlap with GO:0004812\n",
    "    # FruR_Up overlaps with GO:0006099\n",
    "    # GO:0008483 overlaps with GO:0030170\n",
    "    # GO:0008610 overlaps with GO:0006633\n",
    "    # GO:0006508 overlaps with GO:0019538"
   ]
  },
  {
   "cell_type": "code",
   "execution_count": 10,
   "metadata": {},
   "outputs": [
    {
     "data": {
      "text/plain": [
       "0\n",
       "CysB_Up CysB_Up                                          -6.451\n",
       "GO:0019344 cysteine biosynthetic process                 -6.093\n",
       "GO:0008652 amino acid biosynthetic process               -5.797\n",
       "GO:0006099 tricarboxylic acid cycle                      -5.076\n",
       "GO:0005624 membrane fraction                             -4.261\n",
       "FruR_Up FruR_Up                                          -4.072\n",
       "GO:0004812 aminoacyl-tRNA ligase activity                -3.941\n",
       "GO:0006418 tRNA aminoacylation for protein translation   -3.300\n",
       "DgsA_Down DgsA_Down                                      -2.413\n",
       "GO:0019538 protein metabolic process                     -2.350\n",
       "GO:0030170 pyridoxal phosphate binding                   -2.269\n",
       "GO:0006508 proteolysis                                   -2.038\n",
       "GO:0006633 fatty acid biosynthetic process               -1.815\n",
       "GO:0008610 lipid biosynthetic process                    -1.740\n",
       "Name: 2_pval_enriched, dtype: float64"
      ]
     },
     "execution_count": 10,
     "metadata": {},
     "output_type": "execute_result"
    }
   ],
   "source": [
    "# get p-values to report (metG*)\n",
    "combined.loc[(combined['comparison']=='metG_vs_tet')].reindex(labels=PC1_high_terms).dropna()['2_pval_enriched'].sort_values()\n"
   ]
  },
  {
   "cell_type": "code",
   "execution_count": 11,
   "metadata": {},
   "outputs": [
    {
     "data": {
      "text/plain": [
       "0\n",
       "GO:0005624 membrane fraction                             -7.430\n",
       "GO:0004812 aminoacyl-tRNA ligase activity                -6.083\n",
       "DgsA_Down DgsA_Down                                      -4.338\n",
       "GO:0006418 tRNA aminoacylation for protein translation   -4.319\n",
       "GO:0008652 amino acid biosynthetic process               -3.495\n",
       "GO:0016874 ligase activity                               -3.020\n",
       "GO:0006633 fatty acid biosynthetic process               -2.493\n",
       "FruR_Up FruR_Up                                          -2.326\n",
       "GO:0008610 lipid biosynthetic process                    -2.052\n",
       "GO:0019538 protein metabolic process                     -1.100\n",
       "Name: 2_pval_enriched, dtype: float64"
      ]
     },
     "execution_count": 11,
     "metadata": {},
     "output_type": "execute_result"
    }
   ],
   "source": [
    "# get p-values to report (hipA7)\n",
    "combined.loc[(combined['comparison']=='hipA7_vs_tet')].reindex(labels=PC1_high_terms).dropna()['2_pval_enriched'].sort_values()\n"
   ]
  },
  {
   "cell_type": "code",
   "execution_count": 12,
   "metadata": {},
   "outputs": [
    {
     "data": {
      "text/plain": [
       "0\n",
       "GO:0005624 membrane fraction                             -10.082\n",
       "GO:0004812 aminoacyl-tRNA ligase activity                 -9.705\n",
       "GO:0006418 tRNA aminoacylation for protein translation    -8.115\n",
       "GO:0016874 ligase activity                                -5.621\n",
       "GO:0008652 amino acid biosynthetic process                -4.468\n",
       "FruR_Up FruR_Up                                           -4.110\n",
       "DgsA_Down DgsA_Down                                       -1.957\n",
       "GO:0019538 protein metabolic process                      -1.782\n",
       "Name: 2_pval_enriched, dtype: float64"
      ]
     },
     "execution_count": 12,
     "metadata": {},
     "output_type": "execute_result"
    }
   ],
   "source": [
    "# get p-values to report (wt 6-day)\n",
    "combined.loc[(combined['comparison']=='WT_d6_vs_tet')].reindex(labels=PC1_high_terms).dropna()['2_pval_enriched'].sort_values()\n"
   ]
  },
  {
   "cell_type": "code",
   "execution_count": 13,
   "metadata": {},
   "outputs": [
    {
     "data": {
      "text/plain": [
       "0\n",
       "GO:0003735 structural constituent of ribosome   -39.995\n",
       "GO:0005840 ribosome                             -39.093\n",
       "GO:0030529 ribonucleoprotein complex            -38.310\n",
       "GO:0019843 rRNA binding                         -31.578\n",
       "GO:0006412 translation                          -28.058\n",
       "                                                  ...  \n",
       "CysB_Up CysB_Up                                   0.000\n",
       "GO:0005351 sugar porter activity                 -0.000\n",
       "GO:0003774 motor activity                         0.000\n",
       "GO:0006779 porphyrin biosynthetic process         0.000\n",
       "GO:0009288 flagellin-based flagellum              0.000\n",
       "Name: 0, Length: 78, dtype: float64"
      ]
     },
     "execution_count": 13,
     "metadata": {},
     "output_type": "execute_result"
    }
   ],
   "source": [
    "## find pathway most significantly enriched among negative PC1 loadings\n",
    "## GO:0003735\n",
    "PC_matrix_low = PC_matrix[['1']] ## look at lowest column (most negative PC1 loading group)\n",
    "PC_matrix_low.iloc[:,0].str.split('/',expand=True)[0].astype(float).sort_values()"
   ]
  },
  {
   "cell_type": "code",
   "execution_count": 14,
   "metadata": {},
   "outputs": [
    {
     "data": {
      "text/html": [
       "<div>\n",
       "<style scoped>\n",
       "    .dataframe tbody tr th:only-of-type {\n",
       "        vertical-align: middle;\n",
       "    }\n",
       "\n",
       "    .dataframe tbody tr th {\n",
       "        vertical-align: top;\n",
       "    }\n",
       "\n",
       "    .dataframe thead th {\n",
       "        text-align: right;\n",
       "    }\n",
       "</style>\n",
       "<table border=\"1\" class=\"dataframe\">\n",
       "  <thead>\n",
       "    <tr style=\"text-align: right;\">\n",
       "      <th></th>\n",
       "      <th>comparison</th>\n",
       "      <th>0_pval_enriched</th>\n",
       "    </tr>\n",
       "    <tr>\n",
       "      <th>GO</th>\n",
       "      <th></th>\n",
       "      <th></th>\n",
       "    </tr>\n",
       "  </thead>\n",
       "  <tbody>\n",
       "    <tr>\n",
       "      <th>GO:0003735 structural constituent of ribosome</th>\n",
       "      <td>hipA7_vs_tet</td>\n",
       "      <td>-9.990</td>\n",
       "    </tr>\n",
       "    <tr>\n",
       "      <th>GO:0003735 structural constituent of ribosome</th>\n",
       "      <td>metG_vs_tet</td>\n",
       "      <td>-32.570</td>\n",
       "    </tr>\n",
       "    <tr>\n",
       "      <th>GO:0003735 structural constituent of ribosome</th>\n",
       "      <td>WT_d6_vs_tet</td>\n",
       "      <td>-23.665</td>\n",
       "    </tr>\n",
       "  </tbody>\n",
       "</table>\n",
       "</div>"
      ],
      "text/plain": [
       "                                                 comparison  0_pval_enriched\n",
       "GO                                                                          \n",
       "GO:0003735 structural constituent of ribosome  hipA7_vs_tet           -9.990\n",
       "GO:0003735 structural constituent of ribosome   metG_vs_tet          -32.570\n",
       "GO:0003735 structural constituent of ribosome  WT_d6_vs_tet          -23.665"
      ]
     },
     "execution_count": 14,
     "metadata": {},
     "output_type": "execute_result"
    }
   ],
   "source": [
    "# check p-values for GO:0003735 (enriched in tet vs metG/hipA7/wt 6-day persisters)\n",
    "combined.loc[combined.index.str.contains('GO:0003735'),['comparison','0_pval_enriched']]"
   ]
  },
  {
   "cell_type": "code",
   "execution_count": null,
   "metadata": {},
   "outputs": [],
   "source": []
  },
  {
   "cell_type": "code",
   "execution_count": null,
   "metadata": {},
   "outputs": [],
   "source": []
  }
 ],
 "metadata": {
  "kernelspec": {
   "display_name": "Python 3",
   "language": "python",
   "name": "python3"
  },
  "language_info": {
   "codemirror_mode": {
    "name": "ipython",
    "version": 3
   },
   "file_extension": ".py",
   "mimetype": "text/x-python",
   "name": "python",
   "nbconvert_exporter": "python",
   "pygments_lexer": "ipython3",
   "version": "3.6.9"
  }
 },
 "nbformat": 4,
 "nbformat_minor": 2
}
