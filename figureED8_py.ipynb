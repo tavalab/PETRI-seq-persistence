{
 "cells": [
  {
   "cell_type": "code",
   "execution_count": 1,
   "metadata": {},
   "outputs": [],
   "source": [
    "# python version 3.6.9 #\n",
    "import pandas as pd # 1.1.5\n",
    "import numpy as np # 1.19.5\n",
    "import matplotlib.pyplot as plt\n",
    "import matplotlib # 3.3.4\n",
    "import scipy.stats as st # scipy 1.5.4\n",
    "import random\n",
    "\n",
    "matplotlib.rcParams['font.sans-serif'] = \"Arial\"\n",
    "matplotlib.rcParams['font.family'] = \"sans-serif\"\n",
    "plt.rc('text', usetex=False)\n",
    "matplotlib.rcParams['pdf.fonttype'] = 42\n",
    "matplotlib.rcParams['ps.fonttype'] = 42\n",
    "matplotlib.rcParams.update({'font.size': 16})\n",
    "plt.style.use('source_data/included/figure.style')\n",
    "cm = plt.cm.get_cmap('tab20c')\n"
   ]
  },
  {
   "cell_type": "code",
   "execution_count": 2,
   "metadata": {},
   "outputs": [
    {
     "name": "stdout",
     "output_type": "stream",
     "text": [
      "MannwhitneyuResult(statistic=0.0, pvalue=0.02591496360895484)\n",
      "MannwhitneyuResult(statistic=0.0, pvalue=0.02591496360895484)\n"
     ]
    },
    {
     "data": {
      "image/png": "[encoded data removed]",
      "text/plain": [
       "<Figure size 144x288 with 1 Axes>"
      ]
     },
     "metadata": {
      "needs_background": "light"
     },
     "output_type": "display_data"
    }
   ],
   "source": [
    "cm = plt.cm.get_cmap('tab20c')\n",
    "\n",
    "table = pd.read_csv('source_data/included/figED8_rifampicin_CFUs.csv',sep=',',index_col=0)\n",
    "table = table.loc[table['type']=='abx']\n",
    "np.random.seed(seed=2)\n",
    "random.seed(2)\n",
    "fig,ax = plt.subplots(figsize=(2,4))\n",
    "y1 = table['amp']/(table['overnight pre']/100)\n",
    "y1 = y1.dropna()\n",
    "y = y1.mean()\n",
    "err = y1.std()\n",
    "ax.errorbar(-0.2,y,yerr=err,fmt=\".\",markersize=20,capsize=5,color=cm(0),label='ampicillin')\n",
    "l = []\n",
    "[l.append(np.random.choice([-1, 1]) * random.uniform(0.09,0.14)) for i in range(0,len(y1))]\n",
    "ax.scatter([-0.2 + i for i in l],y1,s=4,color=cm(0))\n",
    "y1 = table['cipro']/(table['overnight pre']/100)\n",
    "y1 = y1.dropna()\n",
    "y = y1.mean()\n",
    "err = y1.std()\n",
    "ax.errorbar(0.2,y,yerr=err,fmt=\".\",markersize=20,capsize=5,color=cm(4),label='cipro')\n",
    "l = []\n",
    "[l.append(np.random.choice([-1, 1]) * random.uniform(0.09,0.14)) for i in range(0,len(y1))]\n",
    "ax.scatter([0.2 + i for i in l],y1,s=4,color=cm(4))\n",
    "y1 = table['rif + amp']/(table['overnight pre']/100)\n",
    "y1 = y1.dropna()\n",
    "y = y1.mean()\n",
    "err = y1.std()\n",
    "ax.errorbar(0.8,y,yerr=err,fmt=\".\",markersize=20,capsize=5,color=cm(0))\n",
    "l = []\n",
    "[l.append(np.random.choice([-1, 1]) * random.uniform(0.09,0.14)) for i in range(0,len(y1))]\n",
    "ax.scatter([0.8 + i for i in l],y1,s=4,color=cm(0))\n",
    "\n",
    "y1 = table['rif + cipro']/(table['overnight pre']/100)\n",
    "y1 = y1.dropna()\n",
    "y = y1.mean()\n",
    "err = y1.std()\n",
    "ax.errorbar(1.2,y,yerr=err,fmt=\".\",markersize=20,capsize=5,color=cm(4))\n",
    "l = []\n",
    "[l.append(np.random.choice([-1, 1]) * random.uniform(0.09,0.14)) for i in range(0,len(y1))]\n",
    "ax.scatter([1.2 + i for i in l],y1,s=4,color=cm(4))\n",
    "\n",
    "ax.set_yscale('log')\n",
    "ax.set_ylim(10**-5,10**-1)\n",
    "ax.set_xticks([0,1])\n",
    "ax.set_xticklabels(['WT','WT\\nin\\nrifampicin'])\n",
    "ax.set_ylabel('Survival Ratio')\n",
    "ax.legend()\n",
    "plt.savefig('figures/figED8b_abx_survival.pdf')\n",
    "\n",
    "x = (table['rif + amp']/(table['overnight pre']/100)).dropna()\n",
    "y = (table['amp']/(table['overnight pre']/100)).dropna()\n",
    "print(st.mannwhitneyu(x,y))\n",
    "\n",
    "x = (table['rif + cipro']/(table['overnight pre']/100)).dropna()\n",
    "y = (table['cipro']/(table['overnight pre']/100)).dropna()\n",
    "print(st.mannwhitneyu(x,y))"
   ]
  },
  {
   "cell_type": "code",
   "execution_count": 3,
   "metadata": {},
   "outputs": [
    {
     "name": "stdout",
     "output_type": "stream",
     "text": [
      "0.861587624\n",
      "WilcoxonResult(statistic=0.0, pvalue=0.0625)\n"
     ]
    },
    {
     "data": {
      "image/png": "[encoded data removed]",
      "text/plain": [
       "<Figure size 72x216 with 1 Axes>"
      ]
     },
     "metadata": {
      "needs_background": "light"
     },
     "output_type": "display_data"
    }
   ],
   "source": [
    "table = pd.read_csv('source_data/included/figED8_rifampicin_CFUs.csv',sep=',',index_col=0)\n",
    "table = table.loc[table['type']=='rif_only']\n",
    "np.random.seed(seed=2)\n",
    "random.seed(2)\n",
    "fig,ax = plt.subplots(figsize=(1,3))\n",
    "y1 = table['survival']\n",
    "y = y1.mean()\n",
    "err = y1.std()\n",
    "ax.errorbar(0,y,yerr=err,fmt=\".\",markersize=20,capsize=5,color='grey')\n",
    "l = []\n",
    "[l.append(np.random.choice([-1, 1]) * random.uniform(0.09,0.14)) for i in range(0,len(y1))]\n",
    "ax.scatter(l,y1,s=4,color='grey')\n",
    "\n",
    "ax.set_ylim(0,1.5)\n",
    "ax.set_xlim(-0.3,0.2)\n",
    "ax.set_xticks([])\n",
    "ax.set_ylabel('CFUs after/before rifampicin')\n",
    "\n",
    "plt.savefig('figures/figED8c_CFUs.pdf')\n",
    "print(y1.mean())\n",
    "\n",
    "x = table['overnight pre']\n",
    "y = table['1 hr rif']\n",
    "print(st.wilcoxon(x,y))"
   ]
  },
  {
   "cell_type": "code",
   "execution_count": null,
   "metadata": {},
   "outputs": [],
   "source": []
  }
 ],
 "metadata": {
  "kernelspec": {
   "display_name": "Python 3",
   "language": "python",
   "name": "python3"
  },
  "language_info": {
   "codemirror_mode": {
    "name": "ipython",
    "version": 3
   },
   "file_extension": ".py",
   "mimetype": "text/x-python",
   "name": "python",
   "nbconvert_exporter": "python",
   "pygments_lexer": "ipython3",
   "version": "3.6.9"
  }
 },
 "nbformat": 4,
 "nbformat_minor": 2
}
