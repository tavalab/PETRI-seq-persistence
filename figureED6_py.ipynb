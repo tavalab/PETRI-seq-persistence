{
 "cells": [
  {
   "cell_type": "code",
   "execution_count": 1,
   "metadata": {},
   "outputs": [],
   "source": [
    "# python version 3.6.9 #\n",
    "import pandas as pd # 1.1.5\n",
    "import numpy as np # 1.19.5\n",
    "import matplotlib.pyplot as plt\n",
    "import matplotlib # 3.3.4\n",
    "import scipy.stats as st # scipy 1.5.4\n",
    "import random\n",
    "\n",
    "matplotlib.rcParams['font.sans-serif'] = \"Arial\"\n",
    "matplotlib.rcParams['font.family'] = \"sans-serif\"\n",
    "plt.rc('text', usetex=False)\n",
    "matplotlib.rcParams['pdf.fonttype'] = 42\n",
    "matplotlib.rcParams['ps.fonttype'] = 42\n",
    "matplotlib.rcParams.update({'font.size': 16})\n",
    "plt.style.use('source_data/included/figure.style')\n",
    "cm = plt.cm.get_cmap('tab20c')\n",
    "from scipy.stats import hypergeom\n"
   ]
  },
  {
   "cell_type": "code",
   "execution_count": 2,
   "metadata": {},
   "outputs": [
    {
     "data": {
      "image/png": "[encoded data removed]",
      "text/plain": [
       "<Figure size 216x324 with 1 Axes>"
      ]
     },
     "metadata": {
      "needs_background": "light"
     },
     "output_type": "display_data"
    }
   ],
   "source": [
    "table = pd.read_csv('source_data/included/CFT_survival.csv',sep=',',index_col=0)\n",
    "table = table.loc[(table.index=='20230928') | (table.index=='20230926_petri')]\n",
    "cm = plt.cm.get_cmap('tab20c')\n",
    "np.random.seed(seed=2)\n",
    "shift = 0.05\n",
    "strain_list = ['CFT','MG']\n",
    "names = ['CFT','MG']\n",
    "fig,ax = plt.subplots(figsize=(3,4.5))\n",
    "i = 1\n",
    "\n",
    "x = np.arange(1,3,1)\n",
    "y = table.drop('20230926_petri').groupby(['strain'])['amp survival'].mean()[strain_list]\n",
    "err = table.drop('20230926_petri').groupby(['strain'])['amp survival'].std()[strain_list]\n",
    "ax.errorbar(x-0.1,y,yerr=err,fmt=\".\",markersize=20,capsize=5,color=cm(0),label='ampicillin')\n",
    "y1 = table.loc[table['strain']=='CFT','amp survival'].dropna()\n",
    "l = []\n",
    "[l.append(np.random.choice([-1, 1]) * random.uniform(0.09,0.14)) for i in range(0,len(y1))]\n",
    "ax.scatter([0.9 + i for i in l],y1,s=4,color=cm(0))\n",
    "\n",
    "y1 = table.loc[table['strain']=='MG','amp survival'].dropna()\n",
    "l = []\n",
    "[l.append(np.random.choice([-1, 1]) * random.uniform(0.09,0.14)) for i in range(0,len(y1))]\n",
    "ax.scatter([1.9 + i for i in l],y1,s=4,color=cm(0))\n",
    "\n",
    "y = table.groupby(['strain'])['cipro survival'].mean()[strain_list]\n",
    "err = table.groupby(['strain'])['cipro survival'].std()[strain_list]/np.sqrt(table.groupby(['strain'])['cipro survival'].count()[strain_list])\n",
    "ax.errorbar(x+0.1,y,yerr=err,fmt=\".\",markersize=20,capsize=5,color=cm(4),label='cipro')\n",
    "y1 = table.loc[table['strain']=='CFT','cipro survival'].dropna()\n",
    "l = []\n",
    "[l.append(np.random.choice([-1, 1]) * random.uniform(0.09,0.14)) for i in range(0,len(y1))]\n",
    "ax.scatter([1.1 + i for i in l],y1,s=4,color=cm(4))\n",
    "y1 = table.loc[table['strain']=='MG','cipro survival'].dropna()\n",
    "l = []\n",
    "[l.append(np.random.choice([-1, 1]) * random.uniform(0.09,0.14)) for i in range(0,len(y1))]\n",
    "ax.scatter([2.1 + i for i in l],y1,s=4,color=cm(4))\n",
    "\n",
    "ax.set_yscale('log')\n",
    "ax.set_ylim(10**(-5),10**0.3)\n",
    "ax.set_xlim(0.5,2.5)\n",
    "ax.set_xticks([1,2])\n",
    "ax.set_xticklabels(names)\n",
    "ax.legend(bbox_to_anchor=(1.5, 0.5),fontsize=16)\n",
    "ax.set_ylabel('Survival Ratio')\n",
    "\n",
    "x1 = 0.9\n",
    "x2 = 1.9\n",
    "y = 0.02\n",
    "h = 0.004\n",
    "ax.plot([x1, x1, x2, x2], [y, y+h, y+h, y], lw=1, c='k')\n",
    "ax.text((x1+x2)*.5, y+h-0.002, \"*\", ha='center', va='bottom', color='k',size=14)\n",
    "\n",
    "x1 = 1.1\n",
    "x2 = 2.1\n",
    "y = 0.1\n",
    "h = 0.02\n",
    "ax.plot([x1, x1, x2, x2], [y, y+h, y+h, y], lw=1, c='k')\n",
    "ax.text((x1+x2)*.5, y+h-0.002, \"*\", ha='center', va='bottom', color='k',size=14)\n",
    "\n",
    "plt.savefig('figures/figED6a_survival.pdf')"
   ]
  },
  {
   "cell_type": "code",
   "execution_count": 3,
   "metadata": {},
   "outputs": [
    {
     "name": "stdout",
     "output_type": "stream",
     "text": [
      "25.03299368088468\n",
      "MannwhitneyuResult(statistic=0.0, pvalue=0.015191410988288745)\n",
      "4.0517494824016556\n",
      "MannwhitneyuResult(statistic=0.0, pvalue=0.04042779918502612)\n"
     ]
    }
   ],
   "source": [
    "x = table.loc[table['strain']=='CFT']['amp survival']\n",
    "y = table.loc[table['strain']=='MG']['amp survival']\n",
    "print(x.mean()/y.mean())\n",
    "print(st.mannwhitneyu(x,y))\n",
    "\n",
    "x = table.loc[table['strain']=='CFT'].drop('20230926_petri')['amp survival']\n",
    "y = table.loc[table['strain']=='MG'].drop('20230926_petri')['amp survival']\n",
    "print(x.mean()/y.mean())\n",
    "print(st.mannwhitneyu(x,y))"
   ]
  },
  {
   "cell_type": "code",
   "execution_count": 4,
   "metadata": {},
   "outputs": [
    {
     "name": "stdout",
     "output_type": "stream",
     "text": [
      "72.0134895570803\n",
      "MannwhitneyuResult(statistic=0.0, pvalue=0.04042779918502612)\n"
     ]
    }
   ],
   "source": [
    "x = table.loc[table['strain']=='CFT']['cipro survival'].dropna()\n",
    "y = table.loc[table['strain']=='MG']['cipro survival'].dropna()\n",
    "print(x.mean()/y.mean())\n",
    "print(st.mannwhitneyu(x,y))\n"
   ]
  },
  {
   "cell_type": "code",
   "execution_count": 5,
   "metadata": {},
   "outputs": [
    {
     "data": {
      "image/png": "[encoded data removed]",
      "text/plain": [
       "<Figure size 216x216 with 1 Axes>"
      ]
     },
     "metadata": {
      "needs_background": "light"
     },
     "output_type": "display_data"
    }
   ],
   "source": [
    "# appearance times #\n",
    "\n",
    "appearance_times = pd.read_csv('source_data/included/appearance_times_all.txt',sep='\\t',index_col=0)\n",
    "appearance_times = appearance_times.loc[appearance_times.index.str.contains('20230924|20240115|20230929|20230911|20240118')]\n",
    "\n",
    "samples = {}\n",
    "samples['WT'] = list(appearance_times.index[appearance_times.index.str.contains('MG')].unique())\n",
    "samples['WT'] = samples['WT'] + ['35-1_20230323','35-2_20230323','35-3_20230323','35-4_20230323','WT_1day_20220421','noTet1_20211115', 'noTet2_20211115', 'noTet3_20211115','wt_20221104','wt_20220829','MG1655_20220922']\n",
    "samples['CFT'] = list(appearance_times.index[appearance_times.index.str.contains('CFT')].unique())\n",
    "\n",
    "appearance_times = pd.read_csv('source_data/included/appearance_times_all.txt',sep='\\t',index_col=0)\n",
    "\n",
    "colors = [cm(0),cm(8),cm(12)]\n",
    "xmin = 450\n",
    "xmax = 700\n",
    "alpha = 1\n",
    "fig, ax = plt.subplots(figsize=(3,3))\n",
    "i=0\n",
    "for t in ['noTet3_20211115'] + ['CFT1_20230929'] + ['CFT2_20230929'] + ['CFT1_20240115']:\n",
    "    data = appearance_times.loc[t,'appearance']\n",
    "    count, bins_count = np.histogram(data, bins=100)\n",
    "    pdf = count / sum(count)\n",
    "    cdf = np.cumsum(pdf)\n",
    "    if i >= 1:\n",
    "        ax.plot(bins_count[1:], cdf,linewidth=5,color=colors[i-1],label='CFT',alpha=0.8)\n",
    "    else:\n",
    "        ax.plot(bins_count[1:], cdf,linewidth=5,color='k',alpha=1,label='MG1655')\n",
    "    ax.set_yticks([])\n",
    "    ax.set_xticks([500,600,700])\n",
    "    ax.set_xlim([xmin,xmax])\n",
    "    i += 1\n",
    "    \n",
    "plt.tight_layout()\n",
    "\n",
    "plt.savefig('figures/figED6b_cdf.pdf')"
   ]
  },
  {
   "cell_type": "code",
   "execution_count": 6,
   "metadata": {},
   "outputs": [],
   "source": [
    "all_df = pd.DataFrame()\n",
    "for s_type in samples.keys():\n",
    "    for sample in samples[s_type]:\n",
    "        df = appearance_times.loc[sample]\n",
    "        df = df.reset_index().drop('tp',axis=1)\n",
    "        df.columns = [sample]\n",
    "        all_df = all_df.merge(df,left_index=True,right_index=True,how='outer')\n",
    "all_df.to_csv('source_data/source_tables/figED6b.csv')"
   ]
  },
  {
   "cell_type": "code",
   "execution_count": 7,
   "metadata": {},
   "outputs": [
    {
     "name": "stdout",
     "output_type": "stream",
     "text": [
      "MannwhitneyuResult(statistic=111.0, pvalue=0.4128669612687142)\n",
      "MannwhitneyuResult(statistic=71.0, pvalue=0.03325199895559446)\n",
      "13\n",
      "18\n"
     ]
    },
    {
     "data": {
      "image/png": "[encoded data removed]",
      "text/plain": [
       "<Figure size 144x216 with 2 Axes>"
      ]
     },
     "metadata": {
      "needs_background": "light"
     },
     "output_type": "display_data"
    }
   ],
   "source": [
    "# statistics\n",
    "\n",
    "## define function to get mean of appearance times ##\n",
    "def f(rep):\n",
    "    return(appearance_times.loc[rep,'appearance'].mean())\n",
    "## make dictionary of mean appearance times ##\n",
    "s_func = {}\n",
    "for s in samples.keys():\n",
    "    s_func[s] = []\n",
    "    for rep in samples[s]:\n",
    "        s_func[s].append(f(rep))\n",
    "to_plot = ['WT','CFT']\n",
    "\n",
    "## test significant differences in mean appearance times ##\n",
    "print(st.mannwhitneyu(s_func['WT'],s_func['CFT']))\n",
    "\n",
    "## plot means ##\n",
    "fig,(ax,ax2) = plt.subplots(2,1,figsize=(2,3),sharex=True)\n",
    "x = np.arange(0,len(to_plot))\n",
    "means = [np.mean(s_func[x]) for x in to_plot]\n",
    "stdevs = [np.std(s_func[x]) for x in to_plot]\n",
    "for x_val,mean,stdev in zip(x,means,stdevs):\n",
    "    ax.errorbar(x_val,mean,yerr=stdev,fmt=\".\",markersize=20,capsize=5,color=cm(1))\n",
    "\n",
    "## define function to get range of appearance times ##\n",
    "def f(rep):\n",
    "    return(appearance_times.loc[rep,'appearance'].max()-appearance_times.loc[rep,'appearance'].min())\n",
    "## make dictionary of range of appearance times ##\n",
    "s_func = {}\n",
    "for s in samples.keys():\n",
    "    s_func[s] = []\n",
    "    for rep in samples[s]:\n",
    "        s_func[s].append(f(rep))\n",
    "\n",
    "## test significant differences in range of appearance times ##\n",
    "print(st.mannwhitneyu(s_func['WT'],s_func['CFT']))\n",
    "\n",
    "## plot ranges ##\n",
    "\n",
    "means = [np.mean(s_func[x]) for x in to_plot]\n",
    "stdevs = [np.std(s_func[x]) for x in to_plot]\n",
    "for x_val,mean,stdev in zip(x,means,stdevs):\n",
    "    ax2.errorbar(x_val,mean,yerr=stdev,fmt=\".\",markersize=20,capsize=5,color=cm(1))\n",
    "ax2.set_xlim(-0.5,1.5)\n",
    "ax2.set_xticks([0,1])\n",
    "names = ['WT','CFT']\n",
    "ax2.set_xticklabels(names)\n",
    "ax.set_ylim(450,700)\n",
    "ax2.set_ylim(0,350)\n",
    "## add significance to plot ##\n",
    "x1 = 0\n",
    "x2 = 1\n",
    "y = 600\n",
    "h = 10\n",
    "ax.plot([x1, x1, x2, x2], [y, y+h, y+h, y], lw=1, c='k')\n",
    "ax.text((x1+x2)*.5, y+h, \"ns\", ha='center', va='bottom', color='k',size=16)\n",
    "\n",
    "x1 = 0\n",
    "x2 = 1\n",
    "y = 280\n",
    "h = 10\n",
    "ax2.plot([x1, x1, x2, x2], [y, y+h, y+h, y], lw=1, c='k')\n",
    "ax2.text((x1+x2)*.5, y+h-30, \"*\", ha='center', va='bottom', color='k',size=16)\n",
    "\n",
    "plt.tight_layout()\n",
    "plt.savefig('figures/figED6b_stats.pdf')\n",
    "\n",
    "print(len(samples['CFT']))\n",
    "print(len(samples['WT']))\n"
   ]
  },
  {
   "cell_type": "code",
   "execution_count": 8,
   "metadata": {},
   "outputs": [],
   "source": [
    "## first run v4_CFT_markers.R and figED2_markers_vs_clust5.R\n",
    "\n",
    "bnum_table = pd.read_csv('source_data/included/ecoli_bnum_table_updated_2.txt',sep='\\t',index_col=0)\n",
    "bnum_table = bnum_table.drop_duplicates()\n",
    "bnum_table.index = bnum_table['gene']\n",
    "\n",
    "def make_table(filename,FDR):\n",
    "    table = pd.read_csv(filename,sep='\\t',index_col=0)\n",
    "    table.index = table['Row.names']\n",
    "    table = table.drop('Row.names',axis=1)\n",
    "    table = table.merge(bnum_table,left_index=True,right_index=True,how='left')\n",
    "    table['less'] = -table['less']\n",
    "    signed_p = []\n",
    "    for h,l in zip(table['greater'],table['less']):\n",
    "        if abs(h)<=abs(l):\n",
    "            signed_p.append(h + (10**-280))\n",
    "        elif abs(l)<abs(h):\n",
    "            signed_p.append(l - (10**-280))\n",
    "        else:\n",
    "            print('error')\n",
    "    table['signed_p'] = signed_p\n",
    "    table['fixed_signif'] = (abs(table['signed_p']).sort_values()<FDR*np.arange(1,len(table)+1)/len(table)).astype(int)\n",
    "    table['fixed_signif'] = (table['fixed_signif'] * (table['signed_p']/abs(table['signed_p']))).astype(int)\n",
    "    return table\n",
    "\n",
    "tables = {}\n",
    "FDR = 0.01\n",
    "tables['CFT_amp'] = make_table('source_data/generated/v4_CFTamp_vs_CFT1hr.txt',FDR) \n",
    "tables['metG_clust2'] = make_table('source_data/generated/v4_metG_clust2_vs_5.txt',FDR)\n",
    "tables['wt_amp']  = make_table('source_data/generated/v4_wt_amp_vs_5.txt',FDR)\n",
    "tables['tet'] = make_table('source_data/generated/v4_tet_vs_5.txt',FDR)\n",
    "tables['stat'] = make_table('source_data/generated/v4_clust1_vs_5.txt',FDR)\n",
    "\n",
    "counts = {}\n",
    "counts['metG_clust2'] = pd.read_csv('source_data/generated/v4_metG_clust2_vs_5_counts.txt',sep='\\t')\n",
    "counts['CFT_amp'] = pd.read_csv('source_data/generated/v4_CFTamp_vs_CFT1hr_counts.txt',sep='\\t')\n",
    "counts['metG_clust2'] = pd.read_csv('source_data/generated/v4_metG_clust2_vs_5_counts.txt',sep='\\t')\n",
    "counts['wt_amp'] = pd.read_csv('source_data/generated/v4_wt_amp_vs_5_counts.txt',sep='\\t')\n",
    "counts['tet'] = pd.read_csv('source_data/generated/v4_tet_vs_5_counts.txt',sep='\\t')\n",
    "counts['stat'] = pd.read_csv('source_data/generated/v4_clust1_vs_5_counts.txt',sep='\\t')\n"
   ]
  },
  {
   "cell_type": "code",
   "execution_count": 9,
   "metadata": {},
   "outputs": [
    {
     "name": "stdout",
     "output_type": "stream",
     "text": [
      "135\n",
      "3.20210754632946\n",
      "cysK\n",
      "2.8729621183314102\n"
     ]
    },
    {
     "data": {
      "image/png": "[encoded data removed]",
      "text/plain": [
       "<Figure size 288x288 with 1 Axes>"
      ]
     },
     "metadata": {
      "needs_background": "light"
     },
     "output_type": "display_data"
    }
   ],
   "source": [
    "fig,ax = plt.subplots(figsize=(4,4))\n",
    "cm = plt.cm.get_cmap('Accent')\n",
    "\n",
    "s1 = 'CFT_amp'\n",
    "s2 = 'metG_clust2'\n",
    "\n",
    "df = tables[s1]\n",
    "df = df.merge(counts[s1].loc[counts[s1].min(axis=1)>0],how='inner',left_index=True,right_index=True).drop(['bulk.1','bulk.2'],axis=1)\n",
    "archive_df = df.copy()\n",
    "df = df.loc[df['fixed_signif']!=0]\n",
    "\n",
    "x = df['logFC']\n",
    "y = -np.log10(abs(df['signed_p']))\n",
    "ax.scatter(x,y,s=50,color='grey',alpha=0.7)\n",
    "print(len(x))\n",
    "print(x.median())\n",
    "\n",
    "gene_set = df.sort_values('greater',ascending=True).iloc[0:12,].index\n",
    "for gene in gene_set:\n",
    "    ax.annotate(gene, (x[gene],y[gene]),size=12)\n",
    "gene_set_2 = tables[s2].sort_values('greater').index[0:12]\n",
    "for gene in gene_set_2:\n",
    "    if gene in x.index:\n",
    "        ax.annotate(gene, (x[gene],y[gene]),size=12,weight='bold')\n",
    "        print(gene)\n",
    "pd.DataFrame(archive_df['fixed_signif'].values+1,index=archive_df['bnum']).sort_values(0).to_csv('source_data/generated/' + s1 + '_FDR0.01_discrete_vs_5.txt',sep='\\t')\n",
    "\n",
    "df = df.reindex(tables[s2].loc[tables[s2]['fixed_signif']==1].index).dropna()\n",
    "x = df['logFC']\n",
    "y = -np.log10(abs(df['signed_p']))\n",
    "ax.scatter(x,y,s=50,color=\"k\",alpha=1,label=s1 + ' only')\n",
    "print(x.median())\n",
    "\n",
    "plt.savefig('figures/figED6k_CFT_amp_volcano.pdf')"
   ]
  },
  {
   "cell_type": "code",
   "execution_count": 10,
   "metadata": {},
   "outputs": [],
   "source": [
    "## save source data\n",
    "for_table = pd.DataFrame()\n",
    "for key in ['CFT_amp']:\n",
    "    temp = tables[key][['logFC','signed_p','fixed_signif']]\n",
    "    temp.insert(3,\"type\",[key] * len(temp),True)\n",
    "    for_table = for_table.append(temp)\n",
    "for_table.to_csv('source_data/source_tables/figED6.txt',sep='\\t')"
   ]
  },
  {
   "cell_type": "code",
   "execution_count": 11,
   "metadata": {},
   "outputs": [
    {
     "data": {
      "text/plain": [
       "Index(['gmd', 'wcaD', 'wcaG', 'HGG68-RS06840-CFTonly', 'ynfG', 'eutR', 'cysP',\n",
       "       'wzc', 'yjbH', 'ypeC', 'HGG68-RS15655-CFTonly',\n",
       "       'HGG68-RS22455-CFTonly'],\n",
       "      dtype='object')"
      ]
     },
     "execution_count": 11,
     "metadata": {},
     "output_type": "execute_result"
    }
   ],
   "source": [
    "gene_set"
   ]
  },
  {
   "cell_type": "code",
   "execution_count": 12,
   "metadata": {},
   "outputs": [
    {
     "name": "stdout",
     "output_type": "stream",
     "text": [
      "0.0005433325722764427\n",
      "0.0026681282483049834\n"
     ]
    }
   ],
   "source": [
    "### get all p-values (hyper-geometric test) ###\n",
    "def get_p(s1,s2):\n",
    "    df = tables[s1].reindex(labels=tables[s1].merge(tables[s2],left_index=True,right_index=True,how='inner').index).dropna()\n",
    "    archive_df = df.copy()\n",
    "    df = df.loc[df['fixed_signif']!=0]\n",
    "    df = df.reindex(tables[s2].loc[tables[s2]['fixed_signif']==1].index).dropna()\n",
    "    M = len(archive_df)             # population size\n",
    "    n = (archive_df['fixed_signif']==1).sum()  # number of successes in population\n",
    "    N = (tables[s2].reindex(archive_df.index).dropna()['fixed_signif']==1).sum()  # number sampled\n",
    "    x = (df['fixed_signif']==1).sum()  # number of drawn successes\n",
    "    print(hypergeom.sf(x-1, M, n, N))\n",
    "\n",
    "s1 = 'CFT_amp'\n",
    "s2 = 'metG_clust2'\n",
    "get_p(s1,s2)\n",
    "s2 = 'tet'\n",
    "get_p(s1,s2)\n"
   ]
  },
  {
   "cell_type": "code",
   "execution_count": 13,
   "metadata": {},
   "outputs": [],
   "source": [
    "## read in aggregated iPAGE output ## \n",
    "## run ipage P.1 ##\n",
    "combined = pd.read_csv('source_data/included/discrete_vs_5_pvmatrix_combined.txt',sep='\\t',index_col=0)\n",
    "## clean up dataframe and make parsable ##\n",
    "combined['comparison'] = combined.index.str.split('_FDR0.01_discrete',expand=True).droplevel(1)\n",
    "combined['type'] = combined.index.str.split('_PO_',expand=True).droplevel(0).str.split('_P.1_PAGE',expand=True).droplevel(1)\n",
    "combined = combined.reset_index().drop('index',axis=1)\n",
    "for column in ['0','1','2']:\n",
    "    combined = combined.merge(combined[column].str.split('/',expand=True).rename(columns={0:column+'_pval_enriched',1:column+'_pval_depleted'}).astype(float),left_index=True,right_index=True)\n",
    "combined = combined.drop(['0','1','2'],axis=1)\n",
    "## resulting combined dataframe gives p-value (from iPAGE) of enrichment or depletion in each gene classification ##\n",
    "## gene classifications are 0 (significantly underexpressed), 1 (not differentially expressed), 2 (significantly overexpressed) ##\n"
   ]
  },
  {
   "cell_type": "code",
   "execution_count": 14,
   "metadata": {},
   "outputs": [
    {
     "data": {
      "text/html": [
       "<div>\n",
       "<style scoped>\n",
       "    .dataframe tbody tr th:only-of-type {\n",
       "        vertical-align: middle;\n",
       "    }\n",
       "\n",
       "    .dataframe tbody tr th {\n",
       "        vertical-align: top;\n",
       "    }\n",
       "\n",
       "    .dataframe thead th {\n",
       "        text-align: right;\n",
       "    }\n",
       "</style>\n",
       "<table border=\"1\" class=\"dataframe\">\n",
       "  <thead>\n",
       "    <tr style=\"text-align: right;\">\n",
       "      <th></th>\n",
       "      <th>GO</th>\n",
       "      <th>comparison</th>\n",
       "      <th>type</th>\n",
       "      <th>0_pval_enriched</th>\n",
       "      <th>0_pval_depleted</th>\n",
       "      <th>1_pval_enriched</th>\n",
       "      <th>1_pval_depleted</th>\n",
       "      <th>2_pval_enriched</th>\n",
       "      <th>2_pval_depleted</th>\n",
       "    </tr>\n",
       "  </thead>\n",
       "  <tbody>\n",
       "    <tr>\n",
       "      <th>942</th>\n",
       "      <td>GO:0009103 lipopolysaccharide biosynthetic pro...</td>\n",
       "      <td>CFT_amp</td>\n",
       "      <td>go</td>\n",
       "      <td>-0.0</td>\n",
       "      <td>-0.026</td>\n",
       "      <td>-0.0</td>\n",
       "      <td>-3.734</td>\n",
       "      <td>-3.816</td>\n",
       "      <td>-0.0</td>\n",
       "    </tr>\n",
       "    <tr>\n",
       "      <th>975</th>\n",
       "      <td>IHF_Up IHF_Up</td>\n",
       "      <td>CFT_amp</td>\n",
       "      <td>tf</td>\n",
       "      <td>0.0</td>\n",
       "      <td>0.000</td>\n",
       "      <td>-0.0</td>\n",
       "      <td>-2.460</td>\n",
       "      <td>-2.460</td>\n",
       "      <td>-0.0</td>\n",
       "    </tr>\n",
       "    <tr>\n",
       "      <th>945</th>\n",
       "      <td>GO:0009086 methionine biosynthetic process</td>\n",
       "      <td>CFT_amp</td>\n",
       "      <td>go</td>\n",
       "      <td>0.0</td>\n",
       "      <td>-0.005</td>\n",
       "      <td>-0.0</td>\n",
       "      <td>-2.307</td>\n",
       "      <td>-2.337</td>\n",
       "      <td>0.0</td>\n",
       "    </tr>\n",
       "    <tr>\n",
       "      <th>946</th>\n",
       "      <td>GO:0050662 coenzyme binding</td>\n",
       "      <td>CFT_amp</td>\n",
       "      <td>go</td>\n",
       "      <td>0.0</td>\n",
       "      <td>-0.005</td>\n",
       "      <td>-0.0</td>\n",
       "      <td>-2.307</td>\n",
       "      <td>-2.337</td>\n",
       "      <td>0.0</td>\n",
       "    </tr>\n",
       "  </tbody>\n",
       "</table>\n",
       "</div>"
      ],
      "text/plain": [
       "                                                    GO comparison type  \\\n",
       "942  GO:0009103 lipopolysaccharide biosynthetic pro...    CFT_amp   go   \n",
       "975                                      IHF_Up IHF_Up    CFT_amp   tf   \n",
       "945         GO:0009086 methionine biosynthetic process    CFT_amp   go   \n",
       "946                        GO:0050662 coenzyme binding    CFT_amp   go   \n",
       "\n",
       "     0_pval_enriched  0_pval_depleted  1_pval_enriched  1_pval_depleted  \\\n",
       "942             -0.0           -0.026             -0.0           -3.734   \n",
       "975              0.0            0.000             -0.0           -2.460   \n",
       "945              0.0           -0.005             -0.0           -2.307   \n",
       "946              0.0           -0.005             -0.0           -2.307   \n",
       "\n",
       "     2_pval_enriched  2_pval_depleted  \n",
       "942           -3.816             -0.0  \n",
       "975           -2.460             -0.0  \n",
       "945           -2.337              0.0  \n",
       "946           -2.337              0.0  "
      ]
     },
     "execution_count": 14,
     "metadata": {},
     "output_type": "execute_result"
    }
   ],
   "source": [
    "df = combined.loc[(combined['comparison']=='CFT_amp') & (combined['2_pval_enriched']<np.log10(0.01))].sort_values('2_pval_enriched')\n",
    "terms = df['GO']\n",
    "genes_df = pd.DataFrame()\n",
    "for term in terms:\n",
    "    term = term.split(' ')[0]\n",
    "    genes = []\n",
    "    for term_type in ['go','tf','sr']:\n",
    "        ref_file = open('source_data/included/Ecoli_' + term_type + '_index.txt')\n",
    "        for line in ref_file:\n",
    "            if term in line:\n",
    "                genes.append(line.split('\\t')[0])\n",
    "    genes_df = genes_df.merge(pd.DataFrame([1]*len(genes),genes,columns=[term]),left_index=True,right_index=True,how='outer')\n",
    "genes_df = genes_df.fillna(0)\n",
    "genes_df.loc[genes_df['IHF_Up']>0].sum()\n",
    "df\n"
   ]
  },
  {
   "cell_type": "code",
   "execution_count": 15,
   "metadata": {},
   "outputs": [
    {
     "data": {
      "text/html": [
       "<div>\n",
       "<style scoped>\n",
       "    .dataframe tbody tr th:only-of-type {\n",
       "        vertical-align: middle;\n",
       "    }\n",
       "\n",
       "    .dataframe tbody tr th {\n",
       "        vertical-align: top;\n",
       "    }\n",
       "\n",
       "    .dataframe thead th {\n",
       "        text-align: right;\n",
       "    }\n",
       "</style>\n",
       "<table border=\"1\" class=\"dataframe\">\n",
       "  <thead>\n",
       "    <tr style=\"text-align: right;\">\n",
       "      <th></th>\n",
       "      <th>GO</th>\n",
       "      <th>comparison</th>\n",
       "      <th>type</th>\n",
       "      <th>0_pval_enriched</th>\n",
       "      <th>0_pval_depleted</th>\n",
       "      <th>1_pval_enriched</th>\n",
       "      <th>1_pval_depleted</th>\n",
       "      <th>2_pval_enriched</th>\n",
       "      <th>2_pval_depleted</th>\n",
       "    </tr>\n",
       "  </thead>\n",
       "  <tbody>\n",
       "    <tr>\n",
       "      <th>960</th>\n",
       "      <td>GO:0005525 GTP binding</td>\n",
       "      <td>CFT_amp</td>\n",
       "      <td>go</td>\n",
       "      <td>-1.376</td>\n",
       "      <td>-0.0</td>\n",
       "      <td>-0.148</td>\n",
       "      <td>-0.229</td>\n",
       "      <td>-0.06</td>\n",
       "      <td>-0.373</td>\n",
       "    </tr>\n",
       "    <tr>\n",
       "      <th>938</th>\n",
       "      <td>GO:0006412 translation</td>\n",
       "      <td>CFT_amp</td>\n",
       "      <td>go</td>\n",
       "      <td>-1.769</td>\n",
       "      <td>0.0</td>\n",
       "      <td>-3.068</td>\n",
       "      <td>-0.000</td>\n",
       "      <td>-0.00</td>\n",
       "      <td>-4.620</td>\n",
       "    </tr>\n",
       "    <tr>\n",
       "      <th>947</th>\n",
       "      <td>GO:0003746 translation elongation factor activity</td>\n",
       "      <td>CFT_amp</td>\n",
       "      <td>go</td>\n",
       "      <td>-2.113</td>\n",
       "      <td>-0.0</td>\n",
       "      <td>-0.013</td>\n",
       "      <td>-0.503</td>\n",
       "      <td>-0.00</td>\n",
       "      <td>-0.160</td>\n",
       "    </tr>\n",
       "    <tr>\n",
       "      <th>948</th>\n",
       "      <td>GO:0006414 translational elongation</td>\n",
       "      <td>CFT_amp</td>\n",
       "      <td>go</td>\n",
       "      <td>-2.113</td>\n",
       "      <td>-0.0</td>\n",
       "      <td>-0.013</td>\n",
       "      <td>-0.503</td>\n",
       "      <td>-0.00</td>\n",
       "      <td>-0.160</td>\n",
       "    </tr>\n",
       "    <tr>\n",
       "      <th>949</th>\n",
       "      <td>GO:0003924 GTPase activity</td>\n",
       "      <td>CFT_amp</td>\n",
       "      <td>go</td>\n",
       "      <td>-1.637</td>\n",
       "      <td>-0.0</td>\n",
       "      <td>-0.140</td>\n",
       "      <td>-0.168</td>\n",
       "      <td>-0.00</td>\n",
       "      <td>-0.482</td>\n",
       "    </tr>\n",
       "  </tbody>\n",
       "</table>\n",
       "</div>"
      ],
      "text/plain": [
       "                                                    GO comparison type  \\\n",
       "960                             GO:0005525 GTP binding    CFT_amp   go   \n",
       "938                             GO:0006412 translation    CFT_amp   go   \n",
       "947  GO:0003746 translation elongation factor activity    CFT_amp   go   \n",
       "948                GO:0006414 translational elongation    CFT_amp   go   \n",
       "949                         GO:0003924 GTPase activity    CFT_amp   go   \n",
       "\n",
       "     0_pval_enriched  0_pval_depleted  1_pval_enriched  1_pval_depleted  \\\n",
       "960           -1.376             -0.0           -0.148           -0.229   \n",
       "938           -1.769              0.0           -3.068           -0.000   \n",
       "947           -2.113             -0.0           -0.013           -0.503   \n",
       "948           -2.113             -0.0           -0.013           -0.503   \n",
       "949           -1.637             -0.0           -0.140           -0.168   \n",
       "\n",
       "     2_pval_enriched  2_pval_depleted  \n",
       "960            -0.06           -0.373  \n",
       "938            -0.00           -4.620  \n",
       "947            -0.00           -0.160  \n",
       "948            -0.00           -0.160  \n",
       "949            -0.00           -0.482  "
      ]
     },
     "execution_count": 15,
     "metadata": {},
     "output_type": "execute_result"
    }
   ],
   "source": [
    "df = combined.loc[(combined['comparison']=='CFT_amp') & (combined['0_pval_enriched']<np.log10(0.05))].sort_values('2_pval_enriched')\n",
    "terms = df['GO']\n",
    "genes_df = pd.DataFrame()\n",
    "for term in terms:\n",
    "    term = term.split(' ')[0]\n",
    "    genes = []\n",
    "    for term_type in ['go','tf','sr']:\n",
    "        ref_file = open('source_data/included/Ecoli_' + term_type + '_index.txt')\n",
    "        for line in ref_file:\n",
    "            if term in line:\n",
    "                genes.append(line.split('\\t')[0])\n",
    "    genes_df = genes_df.merge(pd.DataFrame([1]*len(genes),genes,columns=[term]),left_index=True,right_index=True,how='outer')\n",
    "genes_df = genes_df.fillna(0)\n",
    "\n",
    "df"
   ]
  },
  {
   "cell_type": "code",
   "execution_count": null,
   "metadata": {},
   "outputs": [],
   "source": []
  },
  {
   "cell_type": "code",
   "execution_count": null,
   "metadata": {},
   "outputs": [],
   "source": []
  }
 ],
 "metadata": {
  "kernelspec": {
   "display_name": "Python 3",
   "language": "python",
   "name": "python3"
  },
  "language_info": {
   "codemirror_mode": {
    "name": "ipython",
    "version": 3
   },
   "file_extension": ".py",
   "mimetype": "text/x-python",
   "name": "python",
   "nbconvert_exporter": "python",
   "pygments_lexer": "ipython3",
   "version": "3.6.9"
  }
 },
 "nbformat": 4,
 "nbformat_minor": 2
}
