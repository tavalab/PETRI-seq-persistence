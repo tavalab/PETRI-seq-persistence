{
 "cells": [
  {
   "cell_type": "code",
   "execution_count": null,
   "metadata": {},
   "outputs": [],
   "source": [
    "# python version 3.6.9 #\n",
    "import pandas as pd # 1.1.5\n",
    "import numpy as np # 1.19.5\n",
    "import matplotlib.pyplot as plt\n",
    "import matplotlib # 3.3.4\n",
    "import scipy.stats as st # scipy 1.5.4\n",
    "\n",
    "matplotlib.rcParams['font.sans-serif'] = \"Arial\"\n",
    "matplotlib.rcParams['font.family'] = \"sans-serif\"\n",
    "plt.rc('text', usetex=False)\n",
    "matplotlib.rcParams['pdf.fonttype'] = 42\n",
    "matplotlib.rcParams['ps.fonttype'] = 42\n",
    "matplotlib.rcParams.update({'font.size': 16})\n",
    "plt.style.use('source_data/included/figure.style')\n"
   ]
  },
  {
   "cell_type": "code",
   "execution_count": null,
   "metadata": {},
   "outputs": [],
   "source": [
    "###### CALM DATA ######\n",
    "combined = pd.read_csv('source_data/included/fig4_CRISPRi_enrichment.txt',sep='\\t',index_col=0)\n",
    "for rRNA_type in ['rrf','rrl','rrs']:\n",
    "    LAG = combined.loc[(combined['LAGs'].str.contains(rRNA_type)) & (combined['LAGs'].str.contains('b'))].iloc[0,0]\n",
    "    to_append = combined.loc[(combined['LAGs'].str.contains(rRNA_type)) & (combined['LAGs'].str.contains('b'))].groupby('strand').mean().reset_index()\n",
    "    to_append.loc[:,to_append.columns.str.contains('signif')] = np.round(to_append.loc[:,to_append.columns.str.contains('signif')])\n",
    "    to_append['LAGs'] = [LAG,LAG]\n",
    "    combined = combined.loc[~((combined['LAGs'].str.contains(rRNA_type)) & (combined['LAGs'].str.contains('b')))]\n",
    "    combined = combined.append(to_append)\n",
    "    combined = combined.reset_index().drop('index',axis=1)\n",
    "\n",
    "## define replicates for each sample type\n",
    "metG_lag = ['SBC210_vs_SBC205','SBC101_vs_SBC96','SBC102_vs_SBC96','SBC100_vs_SBC96','SBC192_vs_SBC191']\n",
    "MG1655_lag = ['SBC131_vs_SBC126','SBC132_vs_SBC126','SBC130_vs_SBC126']\n",
    "metG_lag_abx = ['SBC207_vs_SBC210','SBC208_vs_SBC210','SBC209_vs_SBC210','SBC98_vs_SBC101','SBC99_vs_SBC101']\n",
    "MG1655_lag_abx = ['SBC128_vs_SBC131','SBC129_vs_SBC131']\n",
    "metG_exp = ['SBC212_vs_SBC211']\n",
    "MG1655_exp = ['SBC134_vs_SBC133']\n",
    "hipA7_lag = ['SBC318_vs_SBC316']\n",
    "hipA7_lag_abx = ['SBC317_vs_SBC318']\n",
    "\n",
    "combined = combined.loc[combined.loc[:,combined.columns.str.contains('n_positions')].sum(axis=1)>0]\n",
    "\n",
    "combined['gene_ID'] = combined['LAGs'].str.split('=',expand=True)[0]\n",
    "combined['gene_name'] = combined['LAGs'].str.split('=',expand=True)[1]\n",
    "combined = combined.drop('LAGs',axis=1)\n",
    "\n",
    "combined = combined.loc[:,combined.columns[[-2,-1]].append(combined.columns[0:-2])]\n",
    "\n",
    "combined = combined.sort_values('strand').sort_values('gene_ID')\n",
    "\n",
    "\n",
    "pval_table = combined.loc[:,combined.columns.str.contains('p_val|gene|strand')]\n",
    "n_positions_table = combined.loc[:,combined.columns.str.contains('n_positions|gene|strand')]\n",
    "\n",
    "pval_table.columns = pval_table.columns.str.replace('p_val_','')\n",
    "n_positions_table.columns = n_positions_table.columns.str.replace('n_positions_','')\n",
    "\n",
    "pval_stack = pval_table.stack()\n",
    "pval_stack[n_positions_table.stack()==0] = 1\n",
    "pval_table = pval_stack.unstack()\n",
    "\n",
    "pval_table.to_csv('tables/TableS5_pval.csv',sep=',')\n",
    "\n",
    "temp = combined.loc[:,combined.columns.str.contains('enrichment|gene|strand')]\n",
    "temp.columns = temp.columns.str.replace('enrichment_','')\n",
    "temp.to_csv('tables/TableS5_enrichment.csv',sep=',')\n",
    "\n",
    "temp = combined.loc[:,combined.columns.str.contains('n_positions|gene|strand')]\n",
    "temp.columns = temp.columns.str.replace('n_positions_','')\n",
    "temp.to_csv('tables/TableS5_nPositions.csv',sep=',')\n",
    "\n",
    "temp = combined.loc[:,combined.columns.str.contains('signif|gene|strand')]\n",
    "temp.columns = temp.columns.str.replace('signif_','')\n",
    "temp.to_csv('tables/TableS5_signif.csv',sep=',')\n",
    "\n"
   ]
  },
  {
   "cell_type": "code",
   "execution_count": null,
   "metadata": {},
   "outputs": [],
   "source": []
  }
 ],
 "metadata": {
  "kernelspec": {
   "display_name": "Python 3",
   "language": "python",
   "name": "python3"
  },
  "language_info": {
   "codemirror_mode": {
    "name": "ipython",
    "version": 3
   },
   "file_extension": ".py",
   "mimetype": "text/x-python",
   "name": "python",
   "nbconvert_exporter": "python",
   "pygments_lexer": "ipython3",
   "version": "3.6.9"
  }
 },
 "nbformat": 4,
 "nbformat_minor": 2
}
